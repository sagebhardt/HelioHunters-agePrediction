{
 "cells": [
  {
   "attachments": {},
   "cell_type": "markdown",
   "metadata": {},
   "source": [
    "# VGG16 for Age Estimation"
   ]
  },
  {
   "attachments": {},
   "cell_type": "markdown",
   "metadata": {},
   "source": [
    "## Import Data"
   ]
  },
  {
   "cell_type": "code",
   "execution_count": null,
   "metadata": {},
   "outputs": [],
   "source": [
    "import tensorflow as tf\n",
    "import numpy as np"
   ]
  },
  {
   "cell_type": "code",
   "execution_count": null,
   "metadata": {},
   "outputs": [],
   "source": [
    "#import images from google drive\n",
    "from google.colab import drive\n",
    "drive.mount('/content/drive')"
   ]
  },
  {
   "cell_type": "code",
   "execution_count": null,
   "metadata": {},
   "outputs": [],
   "source": [
    "import glob\n",
    "bucket0 = glob.glob('/content/drive/MyDrive/StocktonImagesBucketed/0/*.*')\n",
    "bucket1 = glob.glob('/content/drive/MyDrive/StocktonImagesBucketed/1/*.*')\n",
    "bucket2 = glob.glob('/content/drive/MyDrive/StocktonImagesBucketed/2/*.*')\n",
    "bucket3 = glob.glob('/content/drive/MyDrive/StocktonImagesBucketed/3/*.*')\n",
    "bucket4 = glob.glob('/content/drive/MyDrive/StocktonImagesBucketed/4/*.*')\n",
    "bucket5 = glob.glob('/content/drive/MyDrive/StocktonImagesBucketed/5/*.*')\n",
    "bucket6 = glob.glob('/content/drive/MyDrive/StocktonImagesBucketed/6/*.*')\n",
    "bucket7 = glob.glob('/content/drive/MyDrive/StocktonImagesBucketed/7/*.*')\n",
    "bucket8 = glob.glob('/content/drive/MyDrive/StocktonImagesBucketed/8/*.*')\n",
    "\n",
    "data = []\n",
    "labels = []\n",
    "for i in bucket0:   \n",
    "    image=tf.keras.preprocessing.image.load_img(i, color_mode='rgb', \n",
    "    target_size= (224,224))\n",
    "    image=np.array(image)\n",
    "    data.append(image)\n",
    "    labels.append('0')\n",
    "\n",
    "for i in bucket1:   \n",
    "    image=tf.keras.preprocessing.image.load_img(i, color_mode='rgb', \n",
    "    target_size= (224,224))\n",
    "    image=np.array(image)\n",
    "    data.append(image)\n",
    "    labels.append('1')\n",
    "\n",
    "for i in bucket2:   \n",
    "    image=tf.keras.preprocessing.image.load_img(i, color_mode='rgb', \n",
    "    target_size= (224,224))\n",
    "    image=np.array(image)\n",
    "    data.append(image)\n",
    "    labels.append('2')      \n",
    "\n",
    "for i in bucket3:   \n",
    "    image=tf.keras.preprocessing.image.load_img(i, color_mode='rgb', \n",
    "    target_size= (224,224))\n",
    "    image=np.array(image)\n",
    "    data.append(image)\n",
    "    labels.append('3')\n",
    "\n",
    "for i in bucket4:   \n",
    "    image=tf.keras.preprocessing.image.load_img(i, color_mode='rgb', \n",
    "    target_size= (224,224))\n",
    "    image=np.array(image)\n",
    "    data.append(image)\n",
    "    labels.append('4')\n",
    "\n",
    "for i in bucket5:   \n",
    "    image=tf.keras.preprocessing.image.load_img(i, color_mode='rgb', \n",
    "    target_size= (224,224))\n",
    "    image=np.array(image)\n",
    "    data.append(image)\n",
    "    labels.append('5')   \n",
    "\n",
    "for i in bucket6:   \n",
    "    image=tf.keras.preprocessing.image.load_img(i, color_mode='rgb', \n",
    "    target_size= (224,224))\n",
    "    image=np.array(image)\n",
    "    data.append(image)\n",
    "    labels.append('6')\n",
    "\n",
    "for i in bucket7:   \n",
    "    image=tf.keras.preprocessing.image.load_img(i, color_mode='rgb', \n",
    "    target_size= (224,224))\n",
    "    image=np.array(image)\n",
    "    data.append(image)\n",
    "    labels.append('7')\n",
    "\n",
    "for i in bucket8:   \n",
    "    image=tf.keras.preprocessing.image.load_img(i, color_mode='rgb', \n",
    "    target_size= (224,224))\n",
    "    image=np.array(image)\n",
    "    data.append(image)\n",
    "    labels.append('8')        \n",
    "\n",
    "data = np.array(data)\n",
    "labels = np.array(labels)"
   ]
  },
  {
   "cell_type": "code",
   "execution_count": null,
   "metadata": {},
   "outputs": [],
   "source": [
    "#Split data into training and testing\n",
    "from sklearn.model_selection import train_test_split\n",
    "X_train, X_test, y_train, y_test = train_test_split(data, labels,       \n",
    "test_size=0.1)"
   ]
  },
  {
   "cell_type": "code",
   "execution_count": null,
   "metadata": {},
   "outputs": [],
   "source": [
    "print(X_train.shape)\n",
    "print(y_train.shape)"
   ]
  },
  {
   "cell_type": "code",
   "execution_count": null,
   "metadata": {},
   "outputs": [],
   "source": [
    "#Normalize data\n",
    "X_train = X_train.astype('float32') / 255\n",
    "X_test = X_test.astype('float32') / 255\n",
    "\n",
    "#Convert labels to categorical\n",
    "from keras.utils import to_categorical\n",
    "y_train = to_categorical(y_train, 9)\n",
    "y_test = to_categorical(y_test, 9)"
   ]
  },
  {
   "attachments": {},
   "cell_type": "markdown",
   "metadata": {},
   "source": [
    "## Model"
   ]
  },
  {
   "cell_type": "code",
   "execution_count": 3,
   "metadata": {},
   "outputs": [],
   "source": [
    "from keras.applications import VGG16\n",
    "vgg_model = VGG16(weights='imagenet', include_top=False, input_shape=(224, 224, 3))"
   ]
  },
  {
   "cell_type": "code",
   "execution_count": 4,
   "metadata": {},
   "outputs": [
    {
     "name": "stdout",
     "output_type": "stream",
     "text": [
      "Model: \"vgg16\"\n",
      "_________________________________________________________________\n",
      " Layer (type)                Output Shape              Param #   \n",
      "=================================================================\n",
      " input_2 (InputLayer)        [(None, 224, 224, 3)]     0         \n",
      "                                                                 \n",
      " block1_conv1 (Conv2D)       (None, 224, 224, 64)      1792      \n",
      "                                                                 \n",
      " block1_conv2 (Conv2D)       (None, 224, 224, 64)      36928     \n",
      "                                                                 \n",
      " block1_pool (MaxPooling2D)  (None, 112, 112, 64)      0         \n",
      "                                                                 \n",
      " block2_conv1 (Conv2D)       (None, 112, 112, 128)     73856     \n",
      "                                                                 \n",
      " block2_conv2 (Conv2D)       (None, 112, 112, 128)     147584    \n",
      "                                                                 \n",
      " block2_pool (MaxPooling2D)  (None, 56, 56, 128)       0         \n",
      "                                                                 \n",
      " block3_conv1 (Conv2D)       (None, 56, 56, 256)       295168    \n",
      "                                                                 \n",
      " block3_conv2 (Conv2D)       (None, 56, 56, 256)       590080    \n",
      "                                                                 \n",
      " block3_conv3 (Conv2D)       (None, 56, 56, 256)       590080    \n",
      "                                                                 \n",
      " block3_pool (MaxPooling2D)  (None, 28, 28, 256)       0         \n",
      "                                                                 \n",
      " block4_conv1 (Conv2D)       (None, 28, 28, 512)       1180160   \n",
      "                                                                 \n",
      " block4_conv2 (Conv2D)       (None, 28, 28, 512)       2359808   \n",
      "                                                                 \n",
      " block4_conv3 (Conv2D)       (None, 28, 28, 512)       2359808   \n",
      "                                                                 \n",
      " block4_pool (MaxPooling2D)  (None, 14, 14, 512)       0         \n",
      "                                                                 \n",
      " block5_conv1 (Conv2D)       (None, 14, 14, 512)       2359808   \n",
      "                                                                 \n",
      " block5_conv2 (Conv2D)       (None, 14, 14, 512)       2359808   \n",
      "                                                                 \n",
      " block5_conv3 (Conv2D)       (None, 14, 14, 512)       2359808   \n",
      "                                                                 \n",
      " block5_pool (MaxPooling2D)  (None, 7, 7, 512)         0         \n",
      "                                                                 \n",
      "=================================================================\n",
      "Total params: 14,714,688\n",
      "Trainable params: 14,714,688\n",
      "Non-trainable params: 0\n",
      "_________________________________________________________________\n"
     ]
    }
   ],
   "source": [
    "vgg_model.summary()"
   ]
  },
  {
   "cell_type": "code",
   "execution_count": 5,
   "metadata": {},
   "outputs": [],
   "source": [
    "from keras.layers import Dense, Dropout, Flatten\n",
    "from keras.models import Model\n",
    "\n",
    "x = vgg_model.output\n",
    "x = Flatten()(x) # Flatten dimensions to for use in FC layers\n",
    "x = Dense(512, activation='relu')(x)\n",
    "x = Dropout(0.5)(x) # Dropout layer to reduce overfitting\n",
    "x = Dense(256, activation='relu')(x)\n",
    "x = Dense(9, activation='softmax')(x) # Softmax for multiclass\n",
    "transfer_model = Model(inputs=vgg_model.input, outputs=x)"
   ]
  },
  {
   "cell_type": "code",
   "execution_count": 11,
   "metadata": {},
   "outputs": [
    {
     "name": "stdout",
     "output_type": "stream",
     "text": [
      "0 input_2 False\n",
      "1 block1_conv1 False\n",
      "2 block1_conv2 False\n",
      "3 block1_pool False\n",
      "4 block2_conv1 False\n",
      "5 block2_conv2 False\n",
      "6 block2_pool False\n",
      "7 block3_conv1 False\n",
      "8 block3_conv2 False\n",
      "9 block3_conv3 False\n",
      "10 block3_pool False\n",
      "11 block4_conv1 False\n",
      "12 block4_conv2 False\n",
      "13 block4_conv3 False\n",
      "14 block4_pool False\n",
      "15 block5_conv1 False\n",
      "16 block5_conv2 False\n",
      "17 block5_conv3 False\n",
      "18 block5_pool False\n",
      "19 flatten True\n",
      "20 dense True\n",
      "21 dropout True\n",
      "22 dense_1 True\n",
      "23 dense_2 True\n"
     ]
    }
   ],
   "source": [
    "# Freeze four convolution blocks\n",
    "for layer in transfer_model.layers[:15]:\n",
    "    layer.trainable = False\n",
    "\n",
    "# Make sure you have frozen the correct layers\n",
    "for i, layer in enumerate(transfer_model.layers):\n",
    "    print(i, layer.name, layer.trainable)"
   ]
  },
  {
   "cell_type": "code",
   "execution_count": 8,
   "metadata": {},
   "outputs": [],
   "source": [
    "from keras import optimizers\n",
    "\n",
    "learning_rate= 0.001\n",
    "transfer_model.compile(loss=\"categorical_crossentropy\", optimizer=optimizers.Adam(learning_rate=learning_rate), metrics=[\"accuracy\"])\n",
    "history = transfer_model.fit(X_train, y_train, batch_size = 16, epochs=50, validation_data=(X_test,y_test))"
   ]
  },
  {
   "cell_type": "code",
   "execution_count": null,
   "metadata": {},
   "outputs": [],
   "source": [
    "#Plot accuracy and loss\n",
    "import matplotlib.pyplot as plt\n",
    "plt.plot(history.history['accuracy'])\n",
    "plt.plot(history.history['val_accuracy'])\n",
    "plt.title('Transfer Learning Model Accuracy')\n",
    "plt.ylabel('Accuracy')\n",
    "plt.xlabel('Epoch')\n",
    "plt.legend(['Train', 'Test'], loc='upper left')\n",
    "plt.show()"
   ]
  }
 ],
 "metadata": {
  "kernelspec": {
   "display_name": "mlp",
   "language": "python",
   "name": "python3"
  },
  "language_info": {
   "codemirror_mode": {
    "name": "ipython",
    "version": 3
   },
   "file_extension": ".py",
   "mimetype": "text/x-python",
   "name": "python",
   "nbconvert_exporter": "python",
   "pygments_lexer": "ipython3",
   "version": "3.8.16"
  },
  "orig_nbformat": 4
 },
 "nbformat": 4,
 "nbformat_minor": 2
}
